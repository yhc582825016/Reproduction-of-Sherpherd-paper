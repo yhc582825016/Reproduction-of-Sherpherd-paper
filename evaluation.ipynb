{
 "cells": [
  {
   "cell_type": "markdown",
   "metadata": {},
   "source": [
    "## Gsm8k majority voting"
   ]
  },
  {
   "cell_type": "code",
   "execution_count": null,
   "metadata": {},
   "outputs": [],
   "source": [
    "import json\n",
    "with open('/workspace/ye/Github/ds-chat/Shepherd/data/orm_data/test-set.json',\"r\",encoding='utf-8') as f:\n",
    "    data = json.load(f)"
   ]
  },
  {
   "cell_type": "code",
   "execution_count": null,
   "metadata": {},
   "outputs": [],
   "source": [
    "voting_corr_num=0\n",
    "random_corr=0\n",
    "corr_num=0\n",
    "false_num=0\n",
    "from collections import Counter\n",
    "for i in range(len(data)):\n",
    "    binary_label = []\n",
    "    match_result = []\n",
    "    gt = data[i]['answer'].split(\"#### \")[-1]\n",
    "    if data[i]['response'][0].strip(\"<endoftext>\").split(\"#### \")[-1] == gt:\n",
    "        random_corr+=1\n",
    "    for j in data[i]['response']:\n",
    "        match_result.append(j.strip(\"<endoftext>\").split(\"#### \")[-1])\n",
    "        if j.strip(\"<endoftext>\").split(\"#### \")[-1]==gt:\n",
    "            binary_label.append(1)\n",
    "            corr_num+=1\n",
    "        else:\n",
    "            binary_label.append(0)\n",
    "            false_num+=1\n",
    "    counter = Counter(match_result)\n",
    "    most_common_count = counter.most_common(1)[0][0]\n",
    "    if most_common_count == gt:\n",
    "        voting_corr_num+=1\n",
    "    else:\n",
    "        pass\n",
    "    data[i]['labels'] = binary_label\n",
    "    data[i]['match_result'] = match_result\n",
    "    data[i]['voting_result'] = most_common_count\n",
    "    data[i]['dataset']='Gsm8k'\n",
    "print(f'Random select acc {random_corr/len(data)*100:.2f}%')\n",
    "print(f'majority voting acc {voting_corr_num/len(data)*100:.2f}%')"
   ]
  },
  {
   "cell_type": "code",
   "execution_count": null,
   "metadata": {},
   "outputs": [],
   "source": []
  },
  {
   "cell_type": "markdown",
   "metadata": {},
   "source": [
    "## math majority voting"
   ]
  },
  {
   "cell_type": "code",
   "execution_count": null,
   "metadata": {},
   "outputs": [],
   "source": [
    "import json\n",
    "with open('/workspace/ye/Github/ds-chat/Shepherd/data/orm_data/test-set.json',\"r\",encoding='utf-8') as f:\n",
    "    data = json.load(f)"
   ]
  },
  {
   "cell_type": "code",
   "execution_count": null,
   "metadata": {},
   "outputs": [],
   "source": [
    "voting_corr_num=0\n",
    "random_corr=0\n",
    "corr_num=0\n",
    "false_num=0\n",
    "from collections import Counter\n",
    "import re\n",
    "for i in range(len(data)):\n",
    "    binary_label = []\n",
    "    match_results = []\n",
    "    gt = data[i]['answer']\n",
    "    match_result = re.findall(r'\\\\boxed\\{(.*)\\}', data[i]['response'][0])\n",
    "    if match_result !=[]:\n",
    "        match_result=match_result[0]\n",
    "    if match_result == gt:\n",
    "        random_corr+=1\n",
    "    # else:\n",
    "    #     print(match_result)\n",
    "    for j in data[i]['response']:\n",
    "        match_result=re.findall(r'\\\\boxed\\{(.*)\\}', j)\n",
    "        if match_result !=[]:\n",
    "            match_result=match_result[0]\n",
    "        else:\n",
    "            match_result =None\n",
    "        match_results.append(match_result)\n",
    "        if match_result==gt:\n",
    "            binary_label.append(1)\n",
    "            corr_num+=1\n",
    "        else:\n",
    "            binary_label.append(0)\n",
    "            false_num+=1\n",
    "    # print(match_results)\n",
    "    counter = Counter(match_results)\n",
    "    most_common_count = counter.most_common(1)[0][0]\n",
    "    if most_common_count == gt:\n",
    "        voting_corr_num+=1\n",
    "    # else:\n",
    "    #     print(most_common_count,gt)\n",
    "        pass\n",
    "    data[i]['labels'] = binary_label\n",
    "    data[i]['match_result'] = match_results\n",
    "    data[i]['voting_result'] = most_common_count\n",
    "    data[i]['dataset']='Math'\n",
    "print(f'Random select acc {random_corr/len(data)*100:.2f}%')\n",
    "print(f'majority voting acc {voting_corr_num/len(data)*100:.2f}%')"
   ]
  },
  {
   "cell_type": "markdown",
   "metadata": {},
   "source": [
    "## ORM eval"
   ]
  },
  {
   "cell_type": "code",
   "execution_count": null,
   "metadata": {},
   "outputs": [],
   "source": [
    "import json\n",
    "with open('/workspace/ye/Github/ds-chat/Shepherd/infer_result/312-mistral-gsm8k-orm-80.65%.json',\"r\",encoding='utf-8') as f:\n",
    "    data = json.load(f)\n",
    "\n",
    "save_result = {}\n",
    "for i in range(len(data)):\n",
    "    if data[i]['prompt'] not in save_result:\n",
    "        save_result[data[i]['prompt']] = {\n",
    "            'response': [data[i]['response']],\n",
    "            'pred_score': [data[i]['pred_score']],\n",
    "            'answer': [data[i]['answer']]\n",
    "        }\n",
    "    else:\n",
    "        save_result[data[i]['prompt']]['response'].append(data[i]['response'])\n",
    "        save_result[data[i]['prompt']]['pred_score'].append(data[i]['pred_score'])\n",
    "        save_result[data[i]['prompt']]['answer'].append(data[i]['answer'])"
   ]
  },
  {
   "cell_type": "markdown",
   "metadata": {},
   "source": [
    "### gsm8k orm"
   ]
  },
  {
   "cell_type": "code",
   "execution_count": null,
   "metadata": {},
   "outputs": [],
   "source": [
    "c = 0\n",
    "all_c=0\n",
    "t=0\n",
    "for k,v in save_result.items():\n",
    "    t+=1\n",
    "    max_value_index = v['pred_score'].index(max(v['pred_score']))\n",
    "    if v['answer'][0].split(\"#### \")[-1] == v['response'][max_value_index].strip(\"<endoftext>\").strip(\"<step>\").split(\"#### \")[-1].strip(\"</\"):\n",
    "        c+=1\n",
    "    else:\n",
    "        # print(v['answer'][0].split(\"#### \")[-1],'-------',v['response'][max_value_index].strip(\"<step>\").split(\"#### \")[-1].strip(\"</\"))\n",
    "        pass\n",
    "c/t"
   ]
  },
  {
   "cell_type": "markdown",
   "metadata": {},
   "source": [
    "### gsm8k orm + self consistency"
   ]
  },
  {
   "cell_type": "code",
   "execution_count": null,
   "metadata": {},
   "outputs": [],
   "source": [
    "c = 0\n",
    "t=0\n",
    "import re\n",
    "for k,v in save_result.items():\n",
    "    t+=1\n",
    "    answers=[]\n",
    "    for i in range(len(v['response'])):\n",
    "        answers.append(v['response'][i].strip(\"<step>\").strip(\"<endoftext>\").strip(\"</s>\").split(\"#### \")[-1])\n",
    "    pred_scores =v['pred_score']\n",
    "    cumulative_scores = {}\n",
    "    for response, score in zip(answers, pred_scores):\n",
    "        if response in cumulative_scores:\n",
    "            cumulative_scores[response] += score\n",
    "        else:\n",
    "            cumulative_scores[response] = score\n",
    "    highest_cumulative_value = max(cumulative_scores, key=cumulative_scores.get)\n",
    "    \n",
    "    if v['answer'][0].split(\"#### \")[-1] == highest_cumulative_value:\n",
    "        c+=1\n",
    "    else:\n",
    "        # print(v['answer'][0].split(\"#### \")[-1],\"---\",highest_cumulative_value)\n",
    "        pass\n",
    "c/t"
   ]
  },
  {
   "cell_type": "markdown",
   "metadata": {},
   "source": [
    "### math orm"
   ]
  },
  {
   "cell_type": "code",
   "execution_count": null,
   "metadata": {},
   "outputs": [],
   "source": [
    "c = 0\n",
    "t=0\n",
    "import re\n",
    "for k,v in save_result.items():\n",
    "    t+=1\n",
    "    max_value_index = v['pred_score'].index(max(v['pred_score']))\n",
    "    math_result = re.findall(r'\\\\boxed\\{(.*)\\}', v['response'][max_value_index])\n",
    "    if math_result==[]:\n",
    "        math_result=[\"\"]\n",
    "    math_result = [v['response'][max_value_index].split(\"#### \")[-1].strip(\"</s>\").strip(\"<step>\")]\n",
    "    if v['answer'][0]== math_result[0]:\n",
    "        c+=1\n",
    "    else:\n",
    "        # print(v['answer'][0],'-------',math_result[0])\n",
    "        pass\n",
    "c/t"
   ]
  },
  {
   "cell_type": "markdown",
   "metadata": {},
   "source": [
    "### math orm + self consistency"
   ]
  },
  {
   "cell_type": "code",
   "execution_count": null,
   "metadata": {},
   "outputs": [],
   "source": [
    "import re\n",
    "c = 0\n",
    "t=0\n",
    "for k,v in save_result.items():\n",
    "    t+=1\n",
    "    answers=[]\n",
    "    for i in range(len(v['response'])):\n",
    "        math_result = re.findall(r'\\\\boxed\\{(.*)\\}', v['response'][i])\n",
    "        if math_result==[]:\n",
    "            math_result=[\"\"]\n",
    "        answers.append(math_result[0])\n",
    "    pred_scores =v['pred_score']\n",
    "    cumulative_scores = {}\n",
    "    for response, score in zip(answers, pred_scores):\n",
    "        if response in cumulative_scores:\n",
    "            cumulative_scores[response] += score\n",
    "        else:\n",
    "            cumulative_scores[response] = score\n",
    "    highest_cumulative_value = max(cumulative_scores, key=cumulative_scores.get)\n",
    "    # print(highest_cumulative_value)\n",
    "    if v['answer'][0] == highest_cumulative_value:\n",
    "        c+=1\n",
    "    else:\n",
    "        print(v['answer'][0],\"====\",highest_cumulative_value)\n",
    "    \n",
    "c/t"
   ]
  }
 ],
 "metadata": {
  "kernelspec": {
   "display_name": "Python 3",
   "language": "python",
   "name": "python3"
  },
  "language_info": {
   "codemirror_mode": {
    "name": "ipython",
    "version": 3
   },
   "file_extension": ".py",
   "mimetype": "text/x-python",
   "name": "python",
   "nbconvert_exporter": "python",
   "pygments_lexer": "ipython3",
   "version": "3.10.12"
  }
 },
 "nbformat": 4,
 "nbformat_minor": 2
}
